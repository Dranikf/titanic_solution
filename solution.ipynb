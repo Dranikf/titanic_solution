{
 "cells": [
  {
   "cell_type": "code",
   "execution_count": 1,
   "id": "9d4e1d53-4f71-464f-becb-151a62a7a631",
   "metadata": {},
   "outputs": [
    {
     "name": "stderr",
     "output_type": "stream",
     "text": [
      "/home/dranik/.local/lib/python3.10/site-packages/statsmodels/compat/pandas.py:65: FutureWarning: pandas.Int64Index is deprecated and will be removed from pandas in a future version. Use pandas.Index with the appropriate dtype instead.\n",
      "  from pandas import Int64Index as NumericIndex\n"
     ]
    },
    {
     "ename": "ModuleNotFoundError",
     "evalue": "No module named 'DS_common'",
     "output_type": "error",
     "traceback": [
      "\u001b[0;31m---------------------------------------------------------------------------\u001b[0m",
      "\u001b[0;31mModuleNotFoundError\u001b[0m                       Traceback (most recent call last)",
      "Input \u001b[0;32mIn [1]\u001b[0m, in \u001b[0;36m<module>\u001b[0;34m\u001b[0m\n\u001b[1;32m      4\u001b[0m \u001b[38;5;28;01mfrom\u001b[39;00m \u001b[38;5;21;01mstatsmodels\u001b[39;00m\u001b[38;5;21;01m.\u001b[39;00m\u001b[38;5;21;01mformula\u001b[39;00m\u001b[38;5;21;01m.\u001b[39;00m\u001b[38;5;21;01mapi\u001b[39;00m \u001b[38;5;28;01mimport\u001b[39;00m logit\n\u001b[1;32m      5\u001b[0m \u001b[38;5;28;01mfrom\u001b[39;00m \u001b[38;5;21;01msklearn\u001b[39;00m\u001b[38;5;21;01m.\u001b[39;00m\u001b[38;5;21;01mpreprocessing\u001b[39;00m \u001b[38;5;28;01mimport\u001b[39;00m OneHotEncoder\n\u001b[0;32m----> 7\u001b[0m \u001b[38;5;28;01mfrom\u001b[39;00m \u001b[38;5;21;01mDS_common\u001b[39;00m\u001b[38;5;21;01m.\u001b[39;00m\u001b[38;5;21;01mdata_processing\u001b[39;00m \u001b[38;5;28;01mimport\u001b[39;00m pd_OHE\n",
      "\u001b[0;31mModuleNotFoundError\u001b[0m: No module named 'DS_common'"
     ]
    }
   ],
   "source": [
    "import pandas as pd\n",
    "import plotly.express as px\n",
    "\n",
    "from statsmodels.formula.api import logit\n",
    "from sklearn.preprocessing import OneHotEncoder\n",
    "\n",
    "from DS_common.data_processing import pd_OHE"
   ]
  },
  {
   "cell_type": "code",
   "execution_count": null,
   "id": "bf01b032-e345-417e-89f4-81e857395a3d",
   "metadata": {},
   "outputs": [],
   "source": [
    "train = pd.read_csv(\"train.csv\", index_col = 0)\n",
    "test = pd.read_csv(\"test.csv\", index_col = 0)"
   ]
  },
  {
   "cell_type": "code",
   "execution_count": null,
   "id": "61175d63-68ef-45cf-96f6-04f2468b9654",
   "metadata": {},
   "outputs": [],
   "source": [
    "train.head()"
   ]
  },
  {
   "cell_type": "markdown",
   "id": "8ef5fa00-ddf9-4fae-9dc3-6daea5eb2b71",
   "metadata": {},
   "source": [
    "# Data research"
   ]
  },
  {
   "cell_type": "markdown",
   "id": "ca9ac7f7-64f6-4d91-9502-0a0116adfb5f",
   "metadata": {
    "tags": []
   },
   "source": [
    "### Numeric variables"
   ]
  },
  {
   "cell_type": "markdown",
   "id": "7e280be0-1887-41da-aa31-4cfeccd255ac",
   "metadata": {
    "jp-MarkdownHeadingCollapsed": true,
    "tags": []
   },
   "source": [
    "#### Age"
   ]
  },
  {
   "cell_type": "code",
   "execution_count": null,
   "id": "4dbdc1d9-909f-44df-b961-0d1433fabb6d",
   "metadata": {},
   "outputs": [],
   "source": [
    "px.box(train, x = \"Survived\", y = \"Age\")"
   ]
  },
  {
   "cell_type": "code",
   "execution_count": null,
   "id": "4ba114a4-0bc4-416c-a3d2-dbc882cef132",
   "metadata": {},
   "outputs": [],
   "source": [
    "train[\"q_age\"] = pd.qcut(train['Age'],q = 30)\n",
    "\n",
    "q_age_gb = train.groupby(\"q_age\")\n",
    "survived_by_age = pd.DataFrame({\n",
    "    \"Total count\" : q_age_gb[\"Survived\"].count(),\n",
    "    \"Survived count\" : q_age_gb[\"Survived\"].sum()\n",
    "})\n",
    "\n",
    "survived_by_age[\"Survived part\"] = survived_by_age[\"Survived count\"]/survived_by_age['Total count']\n",
    "survived_by_age"
   ]
  },
  {
   "cell_type": "markdown",
   "id": "ac93ae12-cdc6-44fd-86f9-11c14bda6c82",
   "metadata": {
    "jp-MarkdownHeadingCollapsed": true,
    "tags": []
   },
   "source": [
    "### Fare"
   ]
  },
  {
   "cell_type": "code",
   "execution_count": null,
   "id": "f693adb0-4223-470c-a73b-d1cb5383d54f",
   "metadata": {},
   "outputs": [],
   "source": [
    "px.box(train, x = \"Survived\", y = \"Fare\")"
   ]
  },
  {
   "cell_type": "code",
   "execution_count": null,
   "id": "e067bfd0-87d3-46ae-b6e9-be7d9638216c",
   "metadata": {},
   "outputs": [],
   "source": [
    "train[\"q_fare\"] = pd.qcut(train['Fare'],q = 30)\n",
    "\n",
    "q_fare_gb = train.groupby(\"q_fare\")\n",
    "survived_by_fare = pd.DataFrame({\n",
    "    \"Total count\" : q_fare_gb[\"Survived\"].count(),\n",
    "    \"Survived count\" : q_fare_gb[\"Survived\"].sum()\n",
    "})\n",
    "\n",
    "survived_by_fare[\"Survived part\"] = survived_by_fare[\"Survived count\"]/survived_by_fare['Total count']\n",
    "survived_by_fare"
   ]
  },
  {
   "cell_type": "markdown",
   "id": "7497fee4-ea5b-488f-9039-96ea0eb7216d",
   "metadata": {},
   "source": [
    "### Categorial variables"
   ]
  },
  {
   "cell_type": "markdown",
   "id": "286ad5a5-9c6d-42ef-8c97-6550f0c5deb0",
   "metadata": {
    "jp-MarkdownHeadingCollapsed": true,
    "tags": []
   },
   "source": [
    "#### Pclass"
   ]
  },
  {
   "cell_type": "code",
   "execution_count": null,
   "id": "8ca5b65a-3dbe-4d4f-b451-bf92c7f47a64",
   "metadata": {},
   "outputs": [],
   "source": [
    "pd.crosstab(\n",
    "    train[\"Pclass\"],\n",
    "    train[\"Survived\"],\n",
    "    normalize = \"index\"\n",
    ")"
   ]
  },
  {
   "cell_type": "markdown",
   "id": "9defb182-3bfe-4ede-9950-8fceb06efa4b",
   "metadata": {
    "jp-MarkdownHeadingCollapsed": true,
    "tags": []
   },
   "source": [
    "#### Gender"
   ]
  },
  {
   "cell_type": "code",
   "execution_count": null,
   "id": "d3fda861-e4e5-45e1-a1f5-45b4a3230906",
   "metadata": {},
   "outputs": [],
   "source": [
    "pd.crosstab(\n",
    "    train[\"Sex\"],\n",
    "    train[\"Survived\"],\n",
    "    normalize = \"index\"\n",
    ")"
   ]
  },
  {
   "cell_type": "markdown",
   "id": "af67b3fb-70e7-4f25-91cc-d768fd491b09",
   "metadata": {
    "jp-MarkdownHeadingCollapsed": true,
    "tags": []
   },
   "source": [
    "#### SibSp"
   ]
  },
  {
   "cell_type": "code",
   "execution_count": null,
   "id": "123407cd-1c43-43c3-aa43-0224a3ee9ac6",
   "metadata": {},
   "outputs": [],
   "source": [
    "pd.concat([\n",
    "    pd.crosstab(\n",
    "        train[\"SibSp\"],\n",
    "        train[\"Survived\"]\n",
    "    ),\n",
    "    pd.crosstab(\n",
    "        train[\"SibSp\"],\n",
    "        train[\"Survived\"],\n",
    "        normalize = \"index\"\n",
    "    )\n",
    "], axis = 1)"
   ]
  },
  {
   "cell_type": "markdown",
   "id": "29c38b67-4768-4465-b13d-84f89ddd158d",
   "metadata": {
    "jp-MarkdownHeadingCollapsed": true,
    "tags": []
   },
   "source": [
    "#### Parch"
   ]
  },
  {
   "cell_type": "code",
   "execution_count": null,
   "id": "a24d3a4b-23ea-400a-b5fc-cdf90ba8a3e4",
   "metadata": {},
   "outputs": [],
   "source": [
    "ct = pd.crosstab(\n",
    "    train[\"Parch\"], train[\"Survived\"],\n",
    "    normalize = \"index\"\n",
    ")\n",
    "ct[\"total count\"] = train[\"Parch\"].value_counts()\n",
    "\n",
    "ct"
   ]
  },
  {
   "cell_type": "markdown",
   "id": "0e298b7f-05b2-4324-a24d-bfc87933c663",
   "metadata": {
    "jp-MarkdownHeadingCollapsed": true,
    "tags": []
   },
   "source": [
    "#### Cabin"
   ]
  },
  {
   "cell_type": "code",
   "execution_count": null,
   "id": "1f52a3fe-11a5-4a0d-8ecd-6aca1eb71dbe",
   "metadata": {},
   "outputs": [],
   "source": [
    "train[\"Cabin_na_level\"] = train[\"Cabin\"].fillna(\"No data\")\n",
    "\n",
    "pd.crosstab(\n",
    "    train[\"Cabin_na_level\"],\n",
    "    train[\"Survived\"]\n",
    ")"
   ]
  },
  {
   "cell_type": "code",
   "execution_count": null,
   "id": "bcc34233-dcd0-45c0-9056-ebcf8356a6db",
   "metadata": {},
   "outputs": [],
   "source": [
    "train[\"Cabin_first_letter\"] = train[\"Cabin\"].str[0].fillna(\"No data\")\n",
    "\n",
    "ct = pd.crosstab(\n",
    "    train[\"Cabin_first_letter\"],\n",
    "    train[\"Survived\"],\n",
    "    normalize = \"index\"\n",
    ")\n",
    "\n",
    "ct[\"total count\"] = train[\"Cabin_first_letter\"].value_counts()\n",
    "ct"
   ]
  },
  {
   "cell_type": "markdown",
   "id": "34588390-67df-4f12-8c0f-ab507762fcbc",
   "metadata": {
    "jp-MarkdownHeadingCollapsed": true,
    "tags": []
   },
   "source": [
    "#### Embarked"
   ]
  },
  {
   "cell_type": "code",
   "execution_count": null,
   "id": "3b1f36a0-23e4-4519-adc0-aa4ede29e999",
   "metadata": {},
   "outputs": [],
   "source": [
    "ct = pd.crosstab(\n",
    "    train[\"Embarked\"],\n",
    "    train[\"Survived\"],\n",
    "    normalize = \"index\"\n",
    ")\n",
    "ct[\"total count\"] = train[\"Embarked\"].value_counts()\n",
    "ct"
   ]
  },
  {
   "cell_type": "markdown",
   "id": "1fb87bad-459b-4ad1-968f-e3ba9cf3aa2d",
   "metadata": {
    "jp-MarkdownHeadingCollapsed": true,
    "tags": []
   },
   "source": [
    "#### Ticket"
   ]
  },
  {
   "cell_type": "markdown",
   "id": "66b37be1-0c43-4ae4-bcbf-4569e1c96a1b",
   "metadata": {},
   "source": [
    "По самому по себе билету вряд ли, что-то получиться, потому немного преобразований над ним "
   ]
  },
  {
   "cell_type": "code",
   "execution_count": null,
   "id": "871e3d2d-3d0b-430c-a1f1-a7b84054ca8f",
   "metadata": {},
   "outputs": [],
   "source": [
    "train.loc[:,\"Ticket\"].isna().any()"
   ]
  },
  {
   "cell_type": "code",
   "execution_count": null,
   "id": "79423a0d-7956-4626-a5b9-bb210f996b50",
   "metadata": {},
   "outputs": [],
   "source": [
    "# отбросим номер (пропусков нет) потому все остальные наблюдения как без номера\n",
    "train[\"Ticket code\"] = train.loc[:,\"Ticket\"].str.extract(\"(.*) \").fillna(\"No code\")\n",
    "# Удалим точки так как предполагается, что например уровень SOTON/O.Q. то же самое, что и SOTON/OQ\n",
    "train[\"Ticket code\"] = train[\"Ticket code\"].str.replace(\".\", \"\", regex = False)\n",
    "# Все в верхний регистр так как предполагется, что, например, уровень SC/Paris то же самое, что и SC/PARIS\n",
    "train[\"Ticket code\"] = train[\"Ticket code\"].str.upper()"
   ]
  },
  {
   "cell_type": "code",
   "execution_count": null,
   "id": "c92525e5-14f5-4b61-b172-65a5fb6329eb",
   "metadata": {},
   "outputs": [],
   "source": [
    "ct = pd.crosstab(\n",
    "    train[\"Ticket code\"], train[\"Survived\"],\n",
    "    normalize = \"index\" \n",
    ")\n",
    "ct[\"total count\"] = train[\"Ticket code\"].value_counts()\n",
    "ct"
   ]
  },
  {
   "cell_type": "markdown",
   "id": "4af443f3-4bfe-4a5a-a4b7-9cccf2c1dd9e",
   "metadata": {},
   "source": [
    "# Logit regression using all data\n",
    "\n",
    "Helps to choose the best ways for work"
   ]
  },
  {
   "cell_type": "raw",
   "id": "db7e08f1-595e-4566-a0d6-0c5e9409744c",
   "metadata": {},
   "source": [
    "print(pd_OHE.__doc__)"
   ]
  },
  {
   "cell_type": "raw",
   "id": "0e9d1942-3c7e-4a01-b9b7-110ee02e11d7",
   "metadata": {},
   "source": [
    "pd_OHE(\n",
    "    train[[\n",
    "        \"Pclass\", \"Sex\", \"SibSp\", \"Parch\", \"Embarked\", \n",
    "        \"q_age\", \"q_fare\", \"Cabin_first_letter\", \"Ticket code\"\n",
    "    ]],\n",
    "    sk_OHE_kwags = {\"drop\" : \"first\"}\n",
    ")\n",
    "\n",
    "# OneHotEncoder(sparse = False).fit_transform(train[[\n",
    "#     \"Pclass\", \"Sex\", \"SibSp\", \"Parch\", \"Embarked\", \"q_age\", \"q_fare\", \"Cabin_first_letter\", \"Ticket code\"\n",
    "# ]])\n",
    "\n",
    "# fit_X = \n",
    "\n",
    "# Logit(train[\"Survived\"], train[\"Sex\"])"
   ]
  }
 ],
 "metadata": {
  "kernelspec": {
   "display_name": "Python 3 (ipykernel)",
   "language": "python",
   "name": "python3"
  },
  "language_info": {
   "codemirror_mode": {
    "name": "ipython",
    "version": 3
   },
   "file_extension": ".py",
   "mimetype": "text/x-python",
   "name": "python",
   "nbconvert_exporter": "python",
   "pygments_lexer": "ipython3",
   "version": "3.10.5"
  }
 },
 "nbformat": 4,
 "nbformat_minor": 5
}
